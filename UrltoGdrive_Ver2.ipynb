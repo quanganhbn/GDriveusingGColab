{
  "nbformat": 4,
  "nbformat_minor": 0,
  "metadata": {
    "colab": {
      "name": "UrltoGdrive-Ver2.ipynb",
      "provenance": [],
      "collapsed_sections": [],
      "include_colab_link": true
    },
    "kernelspec": {
      "name": "python3",
      "display_name": "Python 3"
    }
  },
  "cells": [
    {
      "cell_type": "markdown",
      "metadata": {
        "id": "view-in-github",
        "colab_type": "text"
      },
      "source": [
        "<a href=\"https://colab.research.google.com/github/quanganhbn/GDriveusingGColab/blob/master/UrltoGdrive_Ver2.ipynb\" target=\"_parent\"><img src=\"https://colab.research.google.com/assets/colab-badge.svg\" alt=\"Open In Colab\"/></a>"
      ]
    },
    {
      "cell_type": "code",
      "metadata": {
        "id": "ck7pMIEAlgxz",
        "outputId": "4d3538b7-6555-40e6-aead-60622e67e4f6",
        "colab": {
          "base_uri": "https://localhost:8080/",
          "height": 34
        }
      },
      "source": [
        "from google.colab import drive\n",
        "drive.mount( '/content/gdrive' )"
      ],
      "execution_count": 1,
      "outputs": [
        {
          "output_type": "stream",
          "text": [
            "Mounted at /content/gdrive\n"
          ],
          "name": "stdout"
        }
      ]
    },
    {
      "cell_type": "code",
      "metadata": {
        "id": "9VMWiuommBbW",
        "cellView": "both"
      },
      "source": [
        "#@title Default title text\n",
        "Local = \"/content/gdrive/Shared drives/HOME SCHOOL 4.0/ABEKA-K5-Activities/\" #@param {type:\"string\"}\n",
        "file_url = \"https://vcdn.abeka.com/15D/SD/MP4/L014/K5SD014D_N2000.mp4?nva=20201019133231&hash=1b93506d71b07ce6f6f99\" #@param {type:\"string\"}\n",
        "filename = \"14C\" #@param {type:\"string\"}\n",
        "import requests\n",
        "r = requests.get(file_url, stream = True)\n",
        "with open(Local+filename+'.mp4',\"wb\") as file:\n",
        "  for block in r.iter_content(chunk_size = 1024):\n",
        "    if block:\n",
        "      file.write(block)"
      ],
      "execution_count": null,
      "outputs": []
    }
  ]
}
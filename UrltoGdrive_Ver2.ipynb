{
  "nbformat": 4,
  "nbformat_minor": 0,
  "metadata": {
    "colab": {
      "name": "UrltoGdrive-Ver2.ipynb",
      "provenance": [],
      "collapsed_sections": [],
      "include_colab_link": true
    },
    "kernelspec": {
      "name": "python3",
      "display_name": "Python 3"
    }
  },
  "cells": [
    {
      "cell_type": "markdown",
      "metadata": {
        "id": "view-in-github",
        "colab_type": "text"
      },
      "source": [
        "<a href=\"https://colab.research.google.com/github/quanganhbn/GDriveusingGColab/blob/master/UrltoGdrive_Ver2.ipynb\" target=\"_parent\"><img src=\"https://colab.research.google.com/assets/colab-badge.svg\" alt=\"Open In Colab\"/></a>"
      ]
    },
    {
      "cell_type": "code",
      "metadata": {
        "id": "ck7pMIEAlgxz",
        "outputId": "9a5ab301-5331-4ae4-bd21-96ff4b19e879",
        "colab": {
          "base_uri": "https://localhost:8080/",
          "height": 34
        }
      },
      "source": [
        "from google.colab import drive\n",
        "drive.mount( '/content/gdrive' )"
      ],
      "execution_count": null,
      "outputs": [
        {
          "output_type": "stream",
          "text": [
            "Mounted at /content/gdrive\n"
          ],
          "name": "stdout"
        }
      ]
    },
    {
      "cell_type": "code",
      "metadata": {
        "id": "9VMWiuommBbW",
        "cellView": "form"
      },
      "source": [
        "#@title Default title text\n",
        "Local = \"/content/gdrive/Shared drives/HOME SCHOOL 4.0/ABEKA-K5-Activities/\" #@param {type:\"string\"}\n",
        "file_url = \"https://vcdn.abeka.com/15D/AC/MP4/L012/K5AC012D_N2000.mp4?nva=20201018034227&hash=16ddc00ea51407b467517\" #@param {type:\"string\"}\n",
        "filename = \"12A.mp4\" #@param {type:\"string\"}\n",
        "import requests\n",
        "r = requests.get(file_url, stream = True)\n",
        "with open(Local+filename,\"wb\") as file:\n",
        "  for block in r.iter_content(chunk_size = 1024):\n",
        "    if block:\n",
        "      file.write(block)"
      ],
      "execution_count": null,
      "outputs": []
    }
  ]
}
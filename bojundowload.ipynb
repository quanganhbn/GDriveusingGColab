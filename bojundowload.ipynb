{
  "nbformat": 4,
  "nbformat_minor": 0,
  "metadata": {
    "colab": {
      "name": "TAICUABOJUN.ipynb",
      "provenance": [],
      "collapsed_sections": [],
      "include_colab_link": true
    },
    "kernelspec": {
      "name": "python3",
      "display_name": "Python 3"
    },
    "accelerator": "GPU"
  },
  "cells": [
    {
      "cell_type": "markdown",
      "metadata": {
        "id": "view-in-github",
        "colab_type": "text"
      },
      "source": [
        "<a href=\"https://colab.research.google.com/github/quanganhbn/GDriveusingGColab/blob/master/abekadowload.ipynb\" target=\"_parent\"><img src=\"https://colab.research.google.com/assets/colab-badge.svg\" alt=\"Open In Colab\"/></a>"
      ]
    },
    {
      "cell_type": "code",
      "metadata": {
        "id": "ddG7RoHYPv-c",
        "cellView": "form"
      },
      "source": [
        "#@title Bước 1\n",
        "#@markdown <h2>⬅ Chạy cái này đầu tiên\n",
        "from google.colab import drive\n",
        "drive.mount('/content/drive')"
      ],
      "execution_count": null,
      "outputs": []
    },
    {
      "cell_type": "code",
      "metadata": {
        "id": "mM2s1xfTP_jB",
        "cellView": "form"
      },
      "source": [
        "#@title Bước 2\n",
        "#@markdown <h2>⬅️ Chạy cái này để tải video</h3>\n",
        "#@markdown <h3>Nhập folder name (Vị trí lưu file)</h3>\n",
        "fdname = \"ABEKA-K5-BIBLE\" #@param {type:\"string\"}\n",
        "import requests \n",
        "File_URL = input(\"Nhập link của bài học: \"\"\")\n",
        "fname = input(\"Tên của bài học: \"\"\")\n",
        "import requests,sys,re,os\n",
        "file_url = File_URL\n",
        "from datetime import datetime\n",
        "startTime = datetime.now()\n",
        "\n",
        "r = requests.get(file_url, stream = True)\n",
        "print(\"\\n\")\n",
        "print(\"Downloading: \" + file_url)\n",
        "#Sửa cái này:\n",
        "fdname\n",
        "fpath = '/content/drive/Shared drives/HOME SCHOOL 4.0/'+fdname +'/' + fname+'.mp4'\n",
        "folderpath = '/content/drive/Shared drives/HOME SCHOOL 4.0/'+fdname+'/'\n",
        "try:\n",
        "    os.mkdir(folderpath)\n",
        "except OSError:\n",
        "    print(\"\")\n",
        "else:\n",
        "    print(\"\")\n",
        "print('Destination: ' + fpath)\n",
        "file_size = 0\n",
        "\n",
        "with open(fpath, 'wb+') as (f):\n",
        "            response = requests.get(file_url, allow_redirects=True, stream=True)\n",
        "            total_length = response.headers.get('content-length')\n",
        "            file_size = round(int(total_length)/(1024*1024),3)\n",
        "            print(\"File Size: \" + str(file_size) + \" MB\")\n",
        "            if not total_length:\n",
        "                f.write(response.content)\n",
        "            else:\n",
        "                dl = 0\n",
        "                total_length = int(total_length)\n",
        "                for data in response.iter_content(chunk_size=4096):\n",
        "                    dl += len(data)\n",
        "                    f.write(data)\n",
        "                    done = int(50 * dl / total_length)\n",
        "                    sys.stdout.write('\\r[%s%s]' % ('=' * done, ' ' * (50 - done)))\n",
        "                    sys.stdout.flush()\n",
        "\n",
        "print(' Download Completed')\n",
        "stopTime = datetime.now();\n",
        "timeDiff = stopTime - startTime\n",
        "print(\"Time Required: \" + str(timeDiff.seconds) + \" Seconds\")\n",
        "print(\"Average Download Speed: \" + str(round(file_size/int(timeDiff.seconds),3)) + \" MBps\" )\n"
      ],
      "execution_count": null,
      "outputs": []
    }
  ]
}

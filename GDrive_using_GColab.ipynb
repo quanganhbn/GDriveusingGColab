{
  "nbformat": 4,
  "nbformat_minor": 0,
  "metadata": {
    "colab": {
      "name": "GDrive using GColab.ipynb",
      "provenance": []
    },
    "kernelspec": {
      "name": "python3",
      "display_name": "Python 3"
    }
  },
  "cells": [
    {
      "cell_type": "code",
      "metadata": {
        "id": "ck7pMIEAlgxz",
        "colab_type": "code",
        "colab": {}
      },
      "source": [
        "from google.colab import drive\n",
        "drive.mount( '/content/gdrive' )"
      ],
      "execution_count": 0,
      "outputs": []
    },
    {
      "cell_type": "code",
      "metadata": {
        "id": "9VMWiuommBbW",
        "colab_type": "code",
        "colab": {}
      },
      "source": [
        "import requests\n",
        "file_url = \"http://1.droppdf.com/files/5iHzx/automate-the-boring-stuff-with-python-2015-.pdf\"\n",
        "r = requests.get(file_url, stream = True)\n",
        "with open(\"/content/gdrive/My Drive/python\",\"wb\") as file:\n",
        "  for block in r.iter_content(chunk_size = 1024):\n",
        "    if block:\n",
        "      file.write(block)"
      ],
      "execution_count": 0,
      "outputs": []
    }
  ]
}
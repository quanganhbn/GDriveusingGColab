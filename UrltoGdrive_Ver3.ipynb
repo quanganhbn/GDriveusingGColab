{
  "nbformat": 4,
  "nbformat_minor": 0,
  "metadata": {
    "colab": {
      "name": "UrltoGdrive-Ver3.ipynb",
      "provenance": [],
      "collapsed_sections": [],
      "include_colab_link": true
    },
    "kernelspec": {
      "name": "python3",
      "display_name": "Python 3"
    }
  },
  "cells": [
    {
      "cell_type": "markdown",
      "metadata": {
        "id": "view-in-github",
        "colab_type": "text"
      },
      "source": [
        "<a href=\"https://colab.research.google.com/github/quanganhbn/GDriveusingGColab/blob/master/UrltoGdrive_Ver3.ipynb\" target=\"_parent\"><img src=\"https://colab.research.google.com/assets/colab-badge.svg\" alt=\"Open In Colab\"/></a>"
      ]
    },
    {
      "cell_type": "code",
      "metadata": {
        "id": "ck7pMIEAlgxz",
        "cellView": "form"
      },
      "source": [
        "#@markdown <h3>⬅ Bước 1: Run This Cell to  Mount Gdrive\n",
        "from google.colab import drive\n",
        "drive.mount('/content/drive')\n",
        "from IPython.display import HTML, clear_output\n",
        "clear_output()\n",
        "print(\"Cài Đặt Thành Công\")"
      ],
      "execution_count": null,
      "outputs": []
    },
    {
      "cell_type": "code",
      "metadata": {
        "id": "9VMWiuommBbW",
        "cellView": "form"
      },
      "source": [
        "#@title Bước 2: Tải\n",
        "import os\n",
        "DriveTeam = \"\" #@param {type:\"string\"}\n",
        "Folder_name = \"\" #@param {type:\"string\"}\n",
        "Loaifile = \"\" #@param {type:\"string\"}\n",
        "mydrive= '/content/drive/My Drive'\n",
        "team= '/content/drive/Shared drives/' + DriveTeam + '/'\n",
        "if DriveTeam==\"\":\n",
        "  vitriluu=mydrive\n",
        "  os.chdir(mydrive)\n",
        "else:\n",
        "  vitriluu=team\n",
        "  os.chdir(team)\n",
        "if Folder_name == \"\":\n",
        "  pass\n",
        "else:\n",
        "  !mkdir -p -v \"$Folder_name\"\n",
        "  os.chdir(Folder_name)\n",
        "file_url = \"\" #@param {type:\"string\"}\n",
        "filename = \"\" #@param {type:\"string\"}\n",
        "import requests\n",
        "r = requests.get(file_url, stream = True)\n",
        "with open(filename+Loaifile,\"wb\") as file:\n",
        "  for block in r.iter_content(chunk_size = 1024):\n",
        "    if block:\n",
        "      file.write(block)"
      ],
      "execution_count": null,
      "outputs": []
    }
  ]
}